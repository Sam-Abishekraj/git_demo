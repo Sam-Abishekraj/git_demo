{
 "cells": [
  {
   "cell_type": "code",
   "execution_count": 1,
   "id": "ae0af017-8198-400b-8c71-00cc593f8add",
   "metadata": {},
   "outputs": [],
   "source": [
    "# Import pandas\n",
    "import pandas as pd\n",
    "\n",
    "# 1. Load the Data\n",
    "df = pd.read_csv('factory_orders.csv')"
   ]
  },
  {
   "cell_type": "code",
   "execution_count": 3,
   "id": "46a35bb9-f67a-4fbe-9193-4cedeeaadf28",
   "metadata": {},
   "outputs": [
    {
     "name": "stdout",
     "output_type": "stream",
     "text": [
      "--- 2a: First 3 Rows ---\n",
      "   OrderID  Product  Color  Quantity  UnitPrice CustomerID\n",
      "0  ORD1001  T-Shirt    Red        50        350     CUST01\n",
      "1  ORD1002     Polo   Blue        30        550     CUST02\n",
      "2  ORD1003   Hoodie  Black        25        800     CUST01\n"
     ]
    }
   ],
   "source": [
    "# --- 2. Initial Inspection ---\n",
    "print(\"--- 2a: First 3 Rows ---\")\n",
    "print(df.head(3))"
   ]
  },
  {
   "cell_type": "code",
   "execution_count": 5,
   "id": "39852bb8-d709-485c-bacd-4cca96f10e86",
   "metadata": {},
   "outputs": [
    {
     "name": "stdout",
     "output_type": "stream",
     "text": [
      "\n",
      "--- 2b: Shape of Data ---\n",
      "(9, 6)\n"
     ]
    }
   ],
   "source": [
    "print(\"\\n--- 2b: Shape of Data ---\")\n",
    "print(df.shape)"
   ]
  },
  {
   "cell_type": "code",
   "execution_count": 7,
   "id": "99e9bdf5-469b-4cad-ba5e-03213a8e3223",
   "metadata": {},
   "outputs": [
    {
     "name": "stdout",
     "output_type": "stream",
     "text": [
      "\n",
      "--- 2c: Technical Summary (info) ---\n",
      "<class 'pandas.core.frame.DataFrame'>\n",
      "RangeIndex: 9 entries, 0 to 8\n",
      "Data columns (total 6 columns):\n",
      " #   Column      Non-Null Count  Dtype \n",
      "---  ------      --------------  ----- \n",
      " 0   OrderID     9 non-null      object\n",
      " 1   Product     9 non-null      object\n",
      " 2   Color       9 non-null      object\n",
      " 3   Quantity    9 non-null      int64 \n",
      " 4   UnitPrice   9 non-null      int64 \n",
      " 5   CustomerID  9 non-null      object\n",
      "dtypes: int64(2), object(4)\n",
      "memory usage: 564.0+ bytes\n"
     ]
    }
   ],
   "source": [
    "print(\"\\n--- 2c: Technical Summary (info) ---\")\n",
    "df.info()"
   ]
  },
  {
   "cell_type": "code",
   "execution_count": 9,
   "id": "91147e00-dd52-47b0-a433-3c2b1ae3c7d2",
   "metadata": {},
   "outputs": [
    {
     "name": "stdout",
     "output_type": "stream",
     "text": [
      "\n",
      "--- 3: Statistical Summary (describe) ---\n",
      "        Quantity   UnitPrice\n",
      "count   9.000000    9.000000\n",
      "mean   42.777778  516.666667\n",
      "std    17.697300  185.404962\n",
      "min    20.000000  350.000000\n",
      "25%    30.000000  350.000000\n",
      "50%    40.000000  550.000000\n",
      "75%    50.000000  550.000000\n",
      "max    75.000000  800.000000\n"
     ]
    }
   ],
   "source": [
    "# --- 3. Statistical Summary ---\n",
    "print(\"\\n--- 3: Statistical Summary (describe) ---\")\n",
    "print(df.describe())"
   ]
  },
  {
   "cell_type": "code",
   "execution_count": 11,
   "id": "a73aac04-6680-4f96-9f79-f73fd169c5e8",
   "metadata": {},
   "outputs": [
    {
     "name": "stdout",
     "output_type": "stream",
     "text": [
      "\n",
      "--- 4: Answering Questions ---\n"
     ]
    }
   ],
   "source": [
    "# --- 4. Descriptive Statistics (Answering Questions) ---\n",
    "print(\"\\n--- 4: Answering Questions ---\")"
   ]
  },
  {
   "cell_type": "code",
   "execution_count": 13,
   "id": "686495ee-b23f-4212-83b5-2cc731ba16aa",
   "metadata": {},
   "outputs": [
    {
     "name": "stdout",
     "output_type": "stream",
     "text": [
      "Average Quantity per Order: 42.77777777777778\n"
     ]
    }
   ],
   "source": [
    "# What is the average quantity of items per order?\n",
    "avg_quantity = df['Quantity'].mean()\n",
    "print(f\"Average Quantity per Order: {avg_quantity}\")"
   ]
  },
  {
   "cell_type": "code",
   "execution_count": 15,
   "id": "23afc69c-635e-4e4b-89c2-85b3b3a79133",
   "metadata": {},
   "outputs": [
    {
     "name": "stdout",
     "output_type": "stream",
     "text": [
      "Total Items Sold: 385\n"
     ]
    }
   ],
   "source": [
    "# What is the total number of items sold across all orders?\n",
    "total_items = df['Quantity'].sum()\n",
    "print(f\"Total Items Sold: {total_items}\")"
   ]
  },
  {
   "cell_type": "code",
   "execution_count": 17,
   "id": "65de95dd-00b3-471c-9962-4f8b551f1a19",
   "metadata": {},
   "outputs": [
    {
     "name": "stdout",
     "output_type": "stream",
     "text": [
      "Most Expensive Unit Price: ₹800\n"
     ]
    }
   ],
   "source": [
    "# What is the most expensive single UnitPrice?\n",
    "max_price = df['UnitPrice'].max()\n",
    "print(f\"Most Expensive Unit Price: ₹{max_price}\")"
   ]
  },
  {
   "cell_type": "code",
   "execution_count": 19,
   "id": "13ed87ca-4de0-4228-a3e6-37820c764191",
   "metadata": {},
   "outputs": [
    {
     "name": "stdout",
     "output_type": "stream",
     "text": [
      "\n",
      "Orders per Product:\n",
      "Product\n",
      "T-Shirt    4\n",
      "Polo       3\n",
      "Hoodie     2\n",
      "Name: count, dtype: int64\n"
     ]
    }
   ],
   "source": [
    "# How many orders were there for each Product?\n",
    "product_counts = df['Product'].value_counts()\n",
    "print(\"\\nOrders per Product:\")\n",
    "print(product_counts)"
   ]
  },
  {
   "cell_type": "code",
   "execution_count": 25,
   "id": "918b5d1e-bf96-438f-b41a-7753d86fa594",
   "metadata": {},
   "outputs": [
    {
     "name": "stdout",
     "output_type": "stream",
     "text": [
      "\n",
      "--- 5: Slicing and Indexing ---\n",
      "\n",
      "Product and Customer Columns:\n",
      "   Product CustomerID\n",
      "0  T-Shirt     CUST01\n",
      "1     Polo     CUST02\n",
      "2   Hoodie     CUST01\n",
      "3  T-Shirt     CUST03\n",
      "4     Polo     CUST04\n",
      "5  T-Shirt     CUST02\n",
      "6   Hoodie     CUST05\n",
      "7  T-Shirt     CUST03\n",
      "8     Polo     CUST01\n"
     ]
    }
   ],
   "source": [
    "# --- 5. Slicing and Indexing ---\n",
    "print(\"\\n--- 5: Slicing and Indexing ---\")\n",
    "\n",
    "# Select and display only the 'Product' and 'CustomerID' columns\n",
    "product_and_customer = df[['Product', 'CustomerID']]\n",
    "print(\"\\nProduct and Customer Columns:\")\n",
    "print(product_and_customer)"
   ]
  },
  {
   "cell_type": "code",
   "execution_count": 27,
   "id": "323e6917-d2e3-425e-a976-dd30d97ae490",
   "metadata": {},
   "outputs": [
    {
     "name": "stdout",
     "output_type": "stream",
     "text": [
      "\n",
      "Order at index 4:\n",
      "OrderID       ORD1005\n",
      "Product          Polo\n",
      "Color           Black\n",
      "Quantity           40\n",
      "UnitPrice         550\n",
      "CustomerID     CUST04\n",
      "Name: 4, dtype: object\n"
     ]
    }
   ],
   "source": [
    "# Select and display the order details for the row at index 4\n",
    "row_4 = df.loc[4]\n",
    "print(f\"\\nOrder at index 4:\\n{row_4}\")"
   ]
  },
  {
   "cell_type": "code",
   "execution_count": 29,
   "id": "0b383bbb-05df-4539-a35b-aa0d4e841165",
   "metadata": {},
   "outputs": [
    {
     "name": "stdout",
     "output_type": "stream",
     "text": [
      "\n",
      "Color at index 2: Black\n"
     ]
    }
   ],
   "source": [
    "# Select and display the Color for the order at index 2 (using .loc[])\n",
    "color_2 = df.loc[2, 'Color']\n",
    "print(f\"\\nColor at index 2: {color_2}\")"
   ]
  },
  {
   "cell_type": "code",
   "execution_count": 31,
   "id": "b04a3153-e2d8-4b11-9fe4-6ea580d49f08",
   "metadata": {},
   "outputs": [
    {
     "name": "stdout",
     "output_type": "stream",
     "text": [
      "\n",
      "Order at integer position 0:\n",
      "OrderID       ORD1001\n",
      "Product       T-Shirt\n",
      "Color             Red\n",
      "Quantity           50\n",
      "UnitPrice         350\n",
      "CustomerID     CUST01\n",
      "Name: 0, dtype: object\n"
     ]
    }
   ],
   "source": [
    "# Select and display the order at integer position 0 (using .iloc[])\n",
    "row_pos_0 = df.iloc[0]\n",
    "print(f\"\\nOrder at integer position 0:\\n{row_pos_0}\")"
   ]
  },
  {
   "cell_type": "code",
   "execution_count": null,
   "id": "9b0e8cb9-7a07-49b0-a1ef-e0e22d350146",
   "metadata": {},
   "outputs": [],
   "source": []
  }
 ],
 "metadata": {
  "kernelspec": {
   "display_name": "Python 3 (ipykernel)",
   "language": "python",
   "name": "python3"
  },
  "language_info": {
   "codemirror_mode": {
    "name": "ipython",
    "version": 3
   },
   "file_extension": ".py",
   "mimetype": "text/x-python",
   "name": "python",
   "nbconvert_exporter": "python",
   "pygments_lexer": "ipython3",
   "version": "3.12.4"
  }
 },
 "nbformat": 4,
 "nbformat_minor": 5
}
